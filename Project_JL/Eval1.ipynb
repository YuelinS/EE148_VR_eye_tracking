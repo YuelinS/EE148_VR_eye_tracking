{
 "cells": [
  {
   "cell_type": "code",
   "execution_count": 1,
   "metadata": {},
   "outputs": [],
   "source": [
    "import argparse\n",
    "import numpy as np\n",
    "import matplotlib\n",
    "import matplotlib.pyplot as plt\n",
    "matplotlib.rc('image', cmap='gray')\n",
    "import torch\n",
    "import torch.nn as nn\n",
    "import torch.nn.functional as F\n",
    "import torch.optim as optim\n",
    "from torchvision import datasets, transforms\n",
    "from torch.optim.lr_scheduler import StepLR\n",
    "from torch.utils.data.sampler import SubsetRandomSampler\n",
    "from torch.utils.data import DataLoader\n",
    "import os\n",
    "from EyeTracking import EyeTrackingDataset"
   ]
  },
  {
   "cell_type": "code",
   "execution_count": 2,
   "metadata": {},
   "outputs": [],
   "source": [
    "parser = argparse.ArgumentParser(description='PyTorch MNIST Example')\n",
    "parser.add_argument('--batch-size', type=int, default=64, metavar='N',\n",
    "                    help='input batch size for training (default: 64)')\n",
    "parser.add_argument('--test-batch-size', type=int, default=1000, metavar='N',\n",
    "                    help='input batch size for testing (default: 1000)')\n",
    "parser.add_argument('--validation-percentage', type=float, default=15., metavar='P',\n",
    "                   help='percentage of training data used for validation')\n",
    "# parser.add_argument('--training-division', type=float, default=1., metavar='D',\n",
    "#                    help='divide the remaining training data by this factor')\n",
    "parser.add_argument('--epochs', type=int, default=14, metavar='N',\n",
    "                    help='number of epochs to train (default: 14)')\n",
    "parser.add_argument('--lr', type=float, default=1.0, metavar='LR',\n",
    "                    help='learning rate (default: 1.0)')\n",
    "parser.add_argument('--step', type=int, default=1, metavar='N',\n",
    "                    help='number of epochs between learning rate reductions (default: 1)')\n",
    "parser.add_argument('--gamma', type=float, default=0.7, metavar='M',\n",
    "                    help='Learning rate step gamma (default: 0.7)')\n",
    "parser.add_argument('--reg-lambda', type=float, default=0.001, metavar='L',\n",
    "                    help='Regularization lambda (default:0.001)')\n",
    "parser.add_argument('--no-cuda', action='store_true',\n",
    "                    help='disables CUDA training')\n",
    "parser.add_argument('--seed', type=int, default=1, metavar='S',\n",
    "                    help='random seed (default: 1)')\n",
    "parser.add_argument('--log-numbers', type=int, default=10, metavar='N',\n",
    "                    help='how many entries of logging training status to show per epoch')\n",
    "parser.add_argument('--evaluate', action='store_true',\n",
    "                    help='evaluate your model on the official test set')\n",
    "parser.add_argument('--load-model', type=str,\n",
    "                    help='model file path')\n",
    "parser.add_argument('--save-model', type=str,\n",
    "                    help='For Saving the current Model');\n",
    "\n",
    "args = parser.parse_args('--validation-percentage 10 --batch-size 128 --epochs 8 --lr 1 --step 1 --gamma 0.9 --reg-lambda 0.0008 --seed 2020 --log-numbers 20'.split())"
   ]
  },
  {
   "cell_type": "code",
   "execution_count": 3,
   "metadata": {},
   "outputs": [],
   "source": [
    "use_cuda = not args.no_cuda and torch.cuda.is_available()\n",
    "torch.manual_seed(args.seed)\n",
    "device = torch.device(\"cuda\" if use_cuda else \"cpu\")\n",
    "kwargs = {'num_workers': 1, 'pin_memory': True} if use_cuda else {}\n",
    "path_outputs = '../data/project'"
   ]
  },
  {
   "cell_type": "code",
   "execution_count": 4,
   "metadata": {},
   "outputs": [],
   "source": [
    "dir_images = r'E:\\Data\\Unity\\Minos\\Fixation Training Images'\n",
    "path_pos = r'E:\\Data\\Unity\\Minos\\Fixation Training Pos.bin'\n",
    "dataset = EyeTrackingDataset(path_pos, dir_images, transform=transforms.Compose([\n",
    "    transforms.Grayscale(),\n",
    "    transforms.Resize(60),\n",
    "    #transforms.ColorJitter(brightness=0.05, contrast=0.05),\n",
    "    transforms.ToTensor()\n",
    "]))"
   ]
  },
  {
   "cell_type": "code",
   "execution_count": 5,
   "metadata": {},
   "outputs": [
    {
     "name": "stdout",
     "output_type": "stream",
     "text": [
      "Loaded 64000 samples and divided into 57600 training and 6400 validation samples\n"
     ]
    }
   ],
   "source": [
    "rng = np.random.default_rng(args.seed)\n",
    "idc = rng.permutation(len(dataset))\n",
    "n_train = np.round(len(dataset)*(1-args.validation_percentage/100)).astype(int)\n",
    "\n",
    "train_loader = DataLoader(\n",
    "    dataset, batch_size=args.batch_size,\n",
    "    sampler=SubsetRandomSampler(idc[:n_train]), **kwargs\n",
    ")\n",
    "val_loader = DataLoader(\n",
    "    dataset, batch_size=args.batch_size,\n",
    "    sampler=SubsetRandomSampler(idc[n_train:]), **kwargs\n",
    ")\n",
    "\n",
    "print(f'Loaded {len(dataset)} samples and divided into {len(train_loader.sampler)} training and {len(val_loader.sampler)} validation samples')"
   ]
  },
  {
   "cell_type": "code",
   "execution_count": 6,
   "metadata": {},
   "outputs": [],
   "source": [
    "class Net(nn.Module):\n",
    "    def __init__(self):\n",
    "        super().__init__()\n",
    "        \n",
    "        self.act = nn.ELU()\n",
    "        # (1, 60, 160)\n",
    "        \n",
    "        self.d1 = 16\n",
    "        self.conv1 = nn.Conv2d(1, self.d1, kernel_size=3, stride=1, padding=1, padding_mode='replicate')\n",
    "        # (16, 60, 160)\n",
    "        self.batchNorm1 = nn.BatchNorm2d(self.d1)\n",
    "        self.pool1 = nn.MaxPool2d(2)\n",
    "        self.dropout2d1 = nn.Dropout2d(0.8)\n",
    "        # (16, 30, 80)\n",
    "        \n",
    "        self.d2 = 32\n",
    "        self.conv2 = nn.Conv2d(self.d1, self.d2, kernel_size=3, stride=1, padding=1, padding_mode='replicate')\n",
    "        # (32, 30, 80)\n",
    "        self.batchNorm2 = nn.BatchNorm2d(self.d2)\n",
    "        self.pool2 = nn.MaxPool2d(2)\n",
    "        self.dropout2d2 = nn.Dropout2d(0.8)\n",
    "        # (32, 15, 40)\n",
    "        \n",
    "        self.d3 = 64\n",
    "        self.conv3 = nn.Conv2d(self.d2, self.d3, kernel_size=3, stride=1, padding=1, padding_mode='replicate')\n",
    "        # (64, 15, 40)\n",
    "        self.batchNorm3 = nn.BatchNorm2d(self.d3)\n",
    "        self.pool3 = nn.MaxPool2d(2)\n",
    "        self.dropout2d3 = nn.Dropout2d(0.8)\n",
    "        # (64, 7, 20)\n",
    "        \n",
    "        self.d4 = 64\n",
    "        self.conv4 = nn.Conv2d(self.d3, self.d4, kernel_size=3, stride=1, padding=1, padding_mode='replicate')\n",
    "        # (64, 7, 20)\n",
    "        self.batchNorm4 = nn.BatchNorm2d(self.d4)\n",
    "        self.pool4 = nn.MaxPool2d(2)\n",
    "        self.dropout2d4 = nn.Dropout2d(0.8)\n",
    "        # (64, 3, 10)\n",
    "        \n",
    "        self.fc1 = nn.Linear(1920, 16)\n",
    "        self.dropout1 = nn.Dropout(0.8)\n",
    "        self.fc2 = nn.Linear(16, 16)\n",
    "        self.dropout2 = nn.Dropout(0.8)\n",
    "        self.fc3 = nn.Linear(16, 3)\n",
    "\n",
    "    def forward(self, x):\n",
    "        x = self.conv1(x)\n",
    "        x = self.batchNorm1(x)\n",
    "        x = self.act(x)\n",
    "        x = self.pool1(x)\n",
    "        x = self.dropout2d1(x)\n",
    "\n",
    "        x = self.conv2(x)\n",
    "        x = self.batchNorm2(x)\n",
    "        x = self.act(x)\n",
    "        x = self.pool2(x)\n",
    "        x = self.dropout2d2(x)\n",
    "\n",
    "        x = self.conv3(x)\n",
    "        x = self.batchNorm3(x)\n",
    "        x = self.act(x)\n",
    "        x = self.pool3(x)\n",
    "        x = self.dropout2d3(x)\n",
    "\n",
    "        x = self.conv4(x)\n",
    "        x = self.batchNorm4(x)\n",
    "        x = self.act(x)\n",
    "        x = self.pool4(x)\n",
    "        x = self.dropout2d4(x)\n",
    "\n",
    "        x = torch.flatten(x, 1)\n",
    "        \n",
    "        x = self.fc1(x)\n",
    "        x = self.act(x)\n",
    "        #x = self.dropout1(x)\n",
    "        \n",
    "        x = self.fc2(x)\n",
    "        x = self.act(x)\n",
    "        #x = self.dropout2(x)\n",
    "        \n",
    "        x = self.fc3(x)\n",
    "        \n",
    "        return x"
   ]
  },
  {
   "cell_type": "code",
   "execution_count": 7,
   "metadata": {},
   "outputs": [
    {
     "data": {
      "text/plain": [
       "<All keys matched successfully>"
      ]
     },
     "execution_count": 7,
     "metadata": {},
     "output_type": "execute_result"
    }
   ],
   "source": [
    "model = Net().to(device)\n",
    "model.load_state_dict(torch.load(os.path.join(path_outputs, 'cnn1.pt')))"
   ]
  },
  {
   "cell_type": "code",
   "execution_count": 8,
   "metadata": {},
   "outputs": [],
   "source": [
    "model.eval()    # Set the model to inference mode\n",
    "val_target = None\n",
    "val_output = None\n",
    "with torch.no_grad():   # For the inference step, gradient is not computed\n",
    "    for data, target in val_loader:\n",
    "        data, target = data.to(device), target.to(device)\n",
    "        output = model(data)\n",
    "        if val_target is None:\n",
    "            val_target = target.cpu().numpy()\n",
    "        else:\n",
    "            val_target = np.vstack((val_target, target.cpu().numpy()))\n",
    "        if val_output is None:\n",
    "            val_output = output.cpu().numpy()\n",
    "        else:\n",
    "            val_output = np.vstack((val_output, output.cpu().numpy()))"
   ]
  },
  {
   "cell_type": "code",
   "execution_count": 9,
   "metadata": {},
   "outputs": [
    {
     "name": "stdout",
     "output_type": "stream",
     "text": [
      "(6400, 3, 2)\n"
     ]
    }
   ],
   "source": [
    "val_diff = val_output-val_target\n",
    "val_result = np.dstack((val_target, val_output))\n",
    "print(val_result.shape)"
   ]
  },
  {
   "cell_type": "code",
   "execution_count": 12,
   "metadata": {},
   "outputs": [
    {
     "data": {
      "application/vnd.jupyter.widget-view+json": {
       "model_id": "f6b4590e6ef3433cbc2b127a0115aed0",
       "version_major": 2,
       "version_minor": 0
      },
      "text/plain": [
       "Canvas(toolbar=Toolbar(toolitems=[('Home', 'Reset original view', 'home', 'home'), ('Back', 'Back to previous …"
      ]
     },
     "metadata": {},
     "output_type": "display_data"
    }
   ],
   "source": [
    "%matplotlib widget\n",
    "fig = plt.figure(figsize=(15, 10), tight_layout=True)\n",
    "ax = fig.add_subplot(111, projection='3d')\n",
    "for k in range(1000):\n",
    "    ax.plot(val_result[k, 0, :], val_result[k, 1, :], val_result[k, 2, :])\n",
    "ax.invert_yaxis()\n",
    "ax.set_xlabel('x')\n",
    "ax.set_ylabel('y')\n",
    "ax.set_zlabel('z')\n",
    "plt.show()"
   ]
  },
  {
   "cell_type": "code",
   "execution_count": null,
   "metadata": {},
   "outputs": [],
   "source": []
  }
 ],
 "metadata": {
  "kernelspec": {
   "display_name": "Python 3",
   "language": "python",
   "name": "python3"
  },
  "language_info": {
   "codemirror_mode": {
    "name": "ipython",
    "version": 3
   },
   "file_extension": ".py",
   "mimetype": "text/x-python",
   "name": "python",
   "nbconvert_exporter": "python",
   "pygments_lexer": "ipython3",
   "version": "3.6.8"
  }
 },
 "nbformat": 4,
 "nbformat_minor": 4
}
