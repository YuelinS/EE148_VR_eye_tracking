{
 "cells": [
  {
   "cell_type": "code",
   "execution_count": 4,
   "metadata": {},
   "outputs": [],
   "source": [
    "import numpy as np\n",
    "import matplotlib\n",
    "import matplotlib.pyplot as plt\n",
    "matplotlib.rc('image', cmap='gray')\n",
    "from PIL import Image\n",
    "import os"
   ]
  },
  {
   "cell_type": "code",
   "execution_count": 15,
   "metadata": {},
   "outputs": [],
   "source": [
    "dir_images = r'E:\\Data\\Unity\\Minos\\images0'\n",
    "path_pos_old = r'E:\\Data\\Unity\\Minos\\pos0_old.bin'\n",
    "path_pos = r'E:\\Data\\Unity\\Minos\\pos0.bin'\n",
    "dir_images_new = r'E:\\Data\\Unity\\Minos\\images1'"
   ]
  },
  {
   "cell_type": "code",
   "execution_count": null,
   "metadata": {},
   "outputs": [],
   "source": [
    "for k in range(64000):\n",
    "    if (k+1)%1000==0:\n",
    "        print(k+1)\n",
    "    image = Image.open(os.path.join(dir_images, f'{k}.png'))\n",
    "    image = image.transpose(Image.ROTATE_180)\n",
    "    image.save(os.path.join(dir_images_new, f'{k}.png'))"
   ]
  },
  {
   "cell_type": "code",
   "execution_count": 16,
   "metadata": {},
   "outputs": [],
   "source": [
    "dt_pos_old = np.dtype([('timestamp', np.int64), ('x', np.single), ('y', np.single), ('z', np.single)])\n",
    "pos_raw_old = np.fromfile(path_pos_old, dtype=dt_pos_old, offset=256)\n",
    "dt_pos = np.dtype([('timestamp', np.int64), ('x', np.single), ('y', np.single), ('z', np.single), \n",
    "                               ('x_fove', np.single), ('y_fove', np.single), ('z_fove', np.single), ('is_open', np.bool)])"
   ]
  },
  {
   "cell_type": "code",
   "execution_count": 26,
   "metadata": {},
   "outputs": [],
   "source": [
    "pos_raw = np.zeros(pos_raw_old.shape, dt_pos)"
   ]
  },
  {
   "cell_type": "code",
   "execution_count": 29,
   "metadata": {},
   "outputs": [],
   "source": [
    "pos_raw['timestamp'] = pos_raw_old['timestamp']\n",
    "pos_raw['x'] = pos_raw_old['x']\n",
    "pos_raw['y'] = pos_raw_old['y']\n",
    "pos_raw['z'] = pos_raw_old['z']\n",
    "pos_raw['x_fove'] = np.NaN\n",
    "pos_raw['y_fove'] = np.NaN\n",
    "pos_raw['z_fove'] = np.NaN\n"
   ]
  },
  {
   "cell_type": "code",
   "execution_count": 30,
   "metadata": {},
   "outputs": [
    {
     "data": {
      "text/plain": [
       "array([(132333833344927900, -5.7675695, 3.3076482 ,  9.989724 , nan, nan, nan, False),\n",
       "       (132333833345184888, -5.497287 , 3.3076482 , 10.140972 , nan, nan, nan, False),\n",
       "       (132333833345496038, -5.2230406, 3.3076487 , 10.284906 , nan, nan, nan, False),\n",
       "       ...,\n",
       "       (132333852712746677, -1.3057601, 0.82691216,  2.5712266, nan, nan, nan, False),\n",
       "       (132333852713057088, -1.3743217, 0.82691205,  2.535243 , nan, nan, nan, False),\n",
       "       (132333852713343613, -1.4418924, 0.82691205,  2.497431 , nan, nan, nan, False)],\n",
       "      dtype=[('timestamp', '<i8'), ('x', '<f4'), ('y', '<f4'), ('z', '<f4'), ('x_fove', '<f4'), ('y_fove', '<f4'), ('z_fove', '<f4'), ('is_open', '?')])"
      ]
     },
     "execution_count": 30,
     "metadata": {},
     "output_type": "execute_result"
    }
   ],
   "source": [
    "pos_raw"
   ]
  },
  {
   "cell_type": "code",
   "execution_count": 31,
   "metadata": {},
   "outputs": [],
   "source": [
    "fid = open(path_pos, mode='wb+')\n",
    "\n",
    "fid.write(np.array(256, dtype=np.uint16).tobytes())\n",
    "fid.write(r'{\"names\":\"timestamp,fixPos,fixPosFove,isOpen\",\"formats\":\"1i8,3f4,3f4,1b1\"}'.encode('ascii'))\n",
    "fid.seek(256, 0)\n",
    "fid.write(pos_raw.tobytes())\n",
    "\n",
    "fid.close()"
   ]
  }
 ],
 "metadata": {
  "kernelspec": {
   "display_name": "Python 3",
   "language": "python",
   "name": "python3"
  },
  "language_info": {
   "codemirror_mode": {
    "name": "ipython",
    "version": 3
   },
   "file_extension": ".py",
   "mimetype": "text/x-python",
   "name": "python",
   "nbconvert_exporter": "python",
   "pygments_lexer": "ipython3",
   "version": "3.8.2"
  }
 },
 "nbformat": 4,
 "nbformat_minor": 4
}
